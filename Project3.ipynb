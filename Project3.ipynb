{
 "cells": [
  {
   "cell_type": "code",
   "execution_count": 48,
   "metadata": {
    "collapsed": true
   },
   "outputs": [],
   "source": [
    "import nltk\n",
    "from nltk.corpus import names\n",
    "import random\n",
    "from nltk.classify import apply_features\n",
    "import pandas as pd"
   ]
  },
  {
   "cell_type": "markdown",
   "metadata": {},
   "source": [
    "# Creating the training, dev_test, and test sets"
   ]
  },
  {
   "cell_type": "markdown",
   "metadata": {},
   "source": [
    "First we load the data into a variable and random shuffle it to make sure three data set are randomly selected\n",
    "Then we seperate data into three data set with the required size "
   ]
  },
  {
   "cell_type": "code",
   "execution_count": 49,
   "metadata": {
    "collapsed": true
   },
   "outputs": [],
   "source": [
    "names = ([(name, 'male') for name in names.words('male.txt')] +\n",
    "[(name, 'female') for name in names.words('female.txt')])\n",
    "random.shuffle(names)\n",
    "test_names = names[:500]\n",
    "devtest_names = names[500:1000]\n",
    "train_names = names[1000:]"
   ]
  },
  {
   "cell_type": "code",
   "execution_count": 50,
   "metadata": {},
   "outputs": [
    {
     "data": {
      "text/plain": [
       "[('Adolf', 'male'),\n",
       " ('Fairfax', 'male'),\n",
       " ('Kala', 'female'),\n",
       " ('Eloise', 'female'),\n",
       " ('Margie', 'female'),\n",
       " ('Selle', 'female'),\n",
       " ('Murphy', 'male'),\n",
       " ('Durand', 'male'),\n",
       " ('Giffy', 'male')]"
      ]
     },
     "execution_count": 50,
     "metadata": {},
     "output_type": "execute_result"
    }
   ],
   "source": [
    "train_names[1:10]"
   ]
  },
  {
   "cell_type": "markdown",
   "metadata": {},
   "source": [
    "Each row in data set is a tuple include name and gender of a person"
   ]
  },
  {
   "cell_type": "markdown",
   "metadata": {},
   "source": [
    "# Build features for the model"
   ]
  },
  {
   "cell_type": "markdown",
   "metadata": {
    "collapsed": true
   },
   "source": [
    "For the first feature set, we are gooing to look first letter, last letter, if last letter is vowel. We also look at the occurrence of each letter and suffix of last two characters "
   ]
  },
  {
   "cell_type": "code",
   "execution_count": 51,
   "metadata": {
    "collapsed": true
   },
   "outputs": [],
   "source": [
    "def gender_features(name):\n",
    "    features = {}\n",
    "    features[\"FirstLetter\"] = name[0].lower()\n",
    "    features[\"LastLetter\"] = name[-1].lower()\n",
    "    features[\"LastIsVowel\"] = (name[-1] in 'aeiouy')\n",
    "    for letter in 'abcdefghijklmnopqrstuvwxyz':\n",
    "        features[\"count(%s)\" % letter] = name.lower().count(letter)\n",
    "        features[\"has(%s)\" % letter] = (letter in name.lower())\n",
    "        features[\"first(%s)\" % letter] = name.lower().find(letter)\n",
    "    features[\"suffix2\"] = name[-2].lower()\n",
    "    features[\"last2\"]  = (name[-2].lower() + name[-1].lower())\n",
    "    if len(name) >= 3:\n",
    "        features[\"last3\"] = (name[-3].lower() + name[-2].lower() + name[-1].lower())\n",
    "    else:\n",
    "        features[\"last3\"] = (\" \" + name[-2].lower() + name[-1].lower())\n",
    "    features[\"length\"] = len(name)\n",
    "    return features"
   ]
  },
  {
   "cell_type": "markdown",
   "metadata": {},
   "source": [
    "# Building a Naive Bayes classifier "
   ]
  },
  {
   "cell_type": "markdown",
   "metadata": {},
   "source": [
    "\n",
    "First we apply the features to all three data sets and then train the model using Naive Bayes classifier"
   ]
  },
  {
   "cell_type": "markdown",
   "metadata": {},
   "source": [
    "Development accurancy is 0.81"
   ]
  },
  {
   "cell_type": "code",
   "execution_count": 52,
   "metadata": {},
   "outputs": [
    {
     "name": "stdout",
     "output_type": "stream",
     "text": [
      "0.81\n"
     ]
    }
   ],
   "source": [
    "train_set = [(gender_features(n), g) for (n,g) in train_names]\n",
    "devtest_set = [(gender_features(n), g) for (n,g) in devtest_names]\n",
    "test_set = [(gender_features(n), g) for (n,g) in test_names]\n",
    "nbclassifier = nltk.NaiveBayesClassifier.train(train_set) \n",
    "print (nltk.classify.accuracy(nbclassifier, devtest_set))"
   ]
  },
  {
   "cell_type": "markdown",
   "metadata": {},
   "source": [
    "Test accurancy is 0.8"
   ]
  },
  {
   "cell_type": "code",
   "execution_count": 56,
   "metadata": {},
   "outputs": [
    {
     "name": "stdout",
     "output_type": "stream",
     "text": [
      "0.8\n"
     ]
    }
   ],
   "source": [
    "print (nltk.classify.accuracy(nbclassifier, test_set))"
   ]
  },
  {
   "cell_type": "markdown",
   "metadata": {},
   "source": [
    "# Error review"
   ]
  },
  {
   "cell_type": "code",
   "execution_count": 57,
   "metadata": {},
   "outputs": [
    {
     "name": "stdout",
     "output_type": "stream",
     "text": [
      "correct=female   guess=male     name=Ag                            \n",
      "correct=female   guess=male     name=Alyss                         \n",
      "correct=female   guess=male     name=Ambur                         \n",
      "correct=female   guess=male     name=Angel                         \n",
      "correct=female   guess=male     name=Audrey                        \n",
      "correct=female   guess=male     name=Berget                        \n",
      "correct=female   guess=male     name=Bev                           \n",
      "correct=female   guess=male     name=Bliss                         \n",
      "correct=female   guess=male     name=Brittan                       \n",
      "correct=female   guess=male     name=Chad                          \n",
      "correct=female   guess=male     name=Corliss                       \n",
      "correct=female   guess=male     name=Corry                         \n",
      "correct=female   guess=male     name=Darb                          \n",
      "correct=female   guess=male     name=Dion                          \n",
      "correct=female   guess=male     name=Dody                          \n",
      "correct=female   guess=male     name=Dorthy                        \n",
      "correct=female   guess=male     name=Ebony                         \n",
      "correct=female   guess=male     name=Faith                         \n",
      "correct=female   guess=male     name=Gael                          \n",
      "correct=female   guess=male     name=Glory                         \n",
      "correct=female   guess=male     name=Grier                         \n",
      "correct=female   guess=male     name=Gwendolen                     \n",
      "correct=female   guess=male     name=Hope                          \n",
      "correct=female   guess=male     name=Inger                         \n",
      "correct=female   guess=male     name=Janot                         \n",
      "correct=female   guess=male     name=Jourdan                       \n",
      "correct=female   guess=male     name=Leigh                         \n",
      "correct=female   guess=male     name=Maren                         \n",
      "correct=female   guess=male     name=Margaret                      \n",
      "correct=female   guess=male     name=Margaux                       \n",
      "correct=female   guess=male     name=Meaghan                       \n",
      "correct=female   guess=male     name=Miriam                        \n",
      "correct=female   guess=male     name=Olympe                        \n",
      "correct=female   guess=male     name=Pooh                          \n",
      "correct=female   guess=male     name=Pru                           \n",
      "correct=female   guess=male     name=Rhiamon                       \n",
      "correct=female   guess=male     name=Roch                          \n",
      "correct=female   guess=male     name=Ros                           \n",
      "correct=female   guess=male     name=Rosalynd                      \n",
      "correct=female   guess=male     name=Star                          \n",
      "correct=female   guess=male     name=Stormie                       \n",
      "correct=female   guess=male     name=Stormy                        \n",
      "correct=female   guess=male     name=Susy                          \n",
      "correct=female   guess=male     name=Tamar                         \n",
      "correct=female   guess=male     name=Tarah                         \n",
      "correct=female   guess=male     name=Wally                         \n",
      "correct=female   guess=male     name=Wandis                        \n",
      "correct=female   guess=male     name=Whitney                       \n",
      "correct=female   guess=male     name=Willow                        \n",
      "correct=male     guess=female   name=Addie                         \n",
      "correct=male     guess=female   name=Alain                         \n",
      "correct=male     guess=female   name=Artie                         \n",
      "correct=male     guess=female   name=Barde                         \n",
      "correct=male     guess=female   name=Barnaby                       \n",
      "correct=male     guess=female   name=Benjamen                      \n",
      "correct=male     guess=female   name=Benjamin                      \n",
      "correct=male     guess=female   name=Benji                         \n",
      "correct=male     guess=female   name=Billy                         \n",
      "correct=male     guess=female   name=Carlie                        \n",
      "correct=male     guess=female   name=Carmine                       \n",
      "correct=male     guess=female   name=Charlie                       \n",
      "correct=male     guess=female   name=Curtice                       \n",
      "correct=male     guess=female   name=Denny                         \n",
      "correct=male     guess=female   name=Fonzie                        \n",
      "correct=male     guess=female   name=Gabriel                       \n",
      "correct=male     guess=female   name=Germaine                      \n",
      "correct=male     guess=female   name=Hari                          \n",
      "correct=male     guess=female   name=Henri                         \n",
      "correct=male     guess=female   name=Henrie                        \n",
      "correct=male     guess=female   name=Iggie                         \n",
      "correct=male     guess=female   name=Ira                           \n",
      "correct=male     guess=female   name=Jermayne                      \n",
      "correct=male     guess=female   name=Jerrie                        \n",
      "correct=male     guess=female   name=Joey                          \n",
      "correct=male     guess=female   name=Jonny                         \n",
      "correct=male     guess=female   name=Jose                          \n",
      "correct=male     guess=female   name=Karsten                       \n",
      "correct=male     guess=female   name=Kingsly                       \n",
      "correct=male     guess=female   name=Laurence                      \n",
      "correct=male     guess=female   name=Martainn                      \n",
      "correct=male     guess=female   name=Martie                        \n",
      "correct=male     guess=female   name=Merlin                        \n",
      "correct=male     guess=female   name=Mikey                         \n",
      "correct=male     guess=female   name=Mortie                        \n",
      "correct=male     guess=female   name=Normie                        \n",
      "correct=male     guess=female   name=Reggie                        \n",
      "correct=male     guess=female   name=Richie                        \n",
      "correct=male     guess=female   name=Roddie                        \n",
      "correct=male     guess=female   name=Rustie                        \n",
      "correct=male     guess=female   name=Teddie                        \n",
      "correct=male     guess=female   name=Thaine                        \n",
      "correct=male     guess=female   name=Tracie                        \n",
      "correct=male     guess=female   name=Udale                         \n",
      "correct=male     guess=female   name=Verne                         \n",
      "correct=male     guess=female   name=Vite                          \n"
     ]
    }
   ],
   "source": [
    "errors = []\n",
    "for (name, tag) in devtest_names:\n",
    "    guess = nbclassifier.classify(gender_features(name))\n",
    "    if guess != tag:\n",
    "        errors.append((tag, guess, name))\n",
    "\n",
    "for (tag, guess, name) in sorted(errors):\n",
    "    print ('correct=%-8s guess=%-8s name=%-30s' %(tag, guess, name))"
   ]
  },
  {
   "cell_type": "markdown",
   "metadata": {},
   "source": [
    "The first model has a high accurancy and both development and test data set get similar accurancy. so the model is applicable but looks like the model has problem to predict names with e as last letter and with ie as suffix"
   ]
  },
  {
   "cell_type": "markdown",
   "metadata": {},
   "source": [
    "# Building Decision Tree classifier "
   ]
  },
  {
   "cell_type": "markdown",
   "metadata": {},
   "source": [
    "For the second model we use decision tree classifier and the same feature set as before"
   ]
  },
  {
   "cell_type": "markdown",
   "metadata": {},
   "source": [
    "Development accurancy is 0.726"
   ]
  },
  {
   "cell_type": "code",
   "execution_count": 58,
   "metadata": {},
   "outputs": [
    {
     "name": "stdout",
     "output_type": "stream",
     "text": [
      "0.726\n"
     ]
    }
   ],
   "source": [
    "dtclassifier = nltk.classify.DecisionTreeClassifier.train(train_set, entropy_cutoff=0,support_cutoff=0)\n",
    "print (nltk.classify.accuracy(dtclassifier, devtest_set))"
   ]
  },
  {
   "cell_type": "markdown",
   "metadata": {},
   "source": [
    "Test accurancy is 0.732"
   ]
  },
  {
   "cell_type": "code",
   "execution_count": 59,
   "metadata": {},
   "outputs": [
    {
     "name": "stdout",
     "output_type": "stream",
     "text": [
      "0.732\n"
     ]
    }
   ],
   "source": [
    "print (nltk.classify.accuracy(dtclassifier, test_set))"
   ]
  },
  {
   "cell_type": "markdown",
   "metadata": {},
   "source": [
    "The accurenacy is lower than naive bayes but the result is still consistant between test and development data set. "
   ]
  },
  {
   "cell_type": "markdown",
   "metadata": {},
   "source": [
    "# Building Naive Bayes clissifier using last letter and syllables count "
   ]
  },
  {
   "cell_type": "markdown",
   "metadata": {},
   "source": [
    "For the third model we add syllables count into considersion "
   ]
  },
  {
   "cell_type": "code",
   "execution_count": 60,
   "metadata": {
    "collapsed": true
   },
   "outputs": [],
   "source": [
    "def count_syllables(word):\n",
    "    vowels = 'aeiouy'\n",
    "    word = word.lower()\n",
    "    count = 0\n",
    "    if word[0] in vowels:\n",
    "        count += 1\n",
    "    for i in range(1, len(word)):\n",
    "        if word[i] in vowels and word[i-1] not in vowels:\n",
    "            count += 1\n",
    "    if word.endswith('e'):\n",
    "        count -= 1\n",
    "    if word.endswith('le'):\n",
    "        count += 1\n",
    "    if word.endswith('bile'):\n",
    "        count -= 1\n",
    "    if count == 0:\n",
    "        count += 1\n",
    "    return count\n",
    "\n",
    "\n",
    "def gender_features2(word):\n",
    "    return {\n",
    "        'last_letter': word[-1],\n",
    "        'last_two': word[-2:],\n",
    "        'last_is_vowel': (word[-1] in 'aeiouy'),\n",
    "        'num_syll': count_syllables(word)\n",
    "    }"
   ]
  },
  {
   "cell_type": "code",
   "execution_count": 61,
   "metadata": {},
   "outputs": [
    {
     "name": "stdout",
     "output_type": "stream",
     "text": [
      "0.776\n"
     ]
    }
   ],
   "source": [
    "train_set = [(gender_features2(n), g) for (n,g) in train_names]\n",
    "devtest_set = [(gender_features2(n), g) for (n,g) in devtest_names]\n",
    "test_set = [(gender_features2(n), g) for (n,g) in test_names]\n",
    "nbclassifier = nltk.NaiveBayesClassifier.train(train_set) \n",
    "print (nltk.classify.accuracy(nbclassifier, devtest_set))"
   ]
  },
  {
   "cell_type": "code",
   "execution_count": 62,
   "metadata": {},
   "outputs": [
    {
     "name": "stdout",
     "output_type": "stream",
     "text": [
      "0.622\n"
     ]
    }
   ],
   "source": [
    "print (nltk.classify.accuracy(dtclassifier, test_set))"
   ]
  },
  {
   "cell_type": "markdown",
   "metadata": {},
   "source": [
    "This model still has higher accurancy than the decision tree but the result from development data set and test data set are not very consistant"
   ]
  },
  {
   "cell_type": "markdown",
   "metadata": {},
   "source": [
    "# Error review for model with syllables count"
   ]
  },
  {
   "cell_type": "code",
   "execution_count": 63,
   "metadata": {},
   "outputs": [
    {
     "name": "stdout",
     "output_type": "stream",
     "text": [
      "correct=female   guess=male     name=Aeriel                        \n",
      "correct=female   guess=male     name=Ag                            \n",
      "correct=female   guess=male     name=Alyss                         \n",
      "correct=female   guess=male     name=Ambur                         \n",
      "correct=female   guess=male     name=Angel                         \n",
      "correct=female   guess=male     name=Berget                        \n",
      "correct=female   guess=male     name=Bev                           \n",
      "correct=female   guess=male     name=Bliss                         \n",
      "correct=female   guess=male     name=Brittan                       \n",
      "correct=female   guess=male     name=Carlen                        \n",
      "correct=female   guess=male     name=Cathleen                      \n",
      "correct=female   guess=male     name=Cathyleen                     \n",
      "correct=female   guess=male     name=Catlin                        \n",
      "correct=female   guess=male     name=Chad                          \n",
      "correct=female   guess=male     name=Charil                        \n",
      "correct=female   guess=male     name=Corliss                       \n",
      "correct=female   guess=male     name=Darb                          \n",
      "correct=female   guess=male     name=Dion                          \n",
      "correct=female   guess=male     name=Dyann                         \n",
      "correct=female   guess=male     name=Faith                         \n",
      "correct=female   guess=male     name=Gael                          \n",
      "correct=female   guess=male     name=Grier                         \n",
      "correct=female   guess=male     name=Gwendolen                     \n",
      "correct=female   guess=male     name=Inger                         \n",
      "correct=female   guess=male     name=Janot                         \n",
      "correct=female   guess=male     name=Joellyn                       \n",
      "correct=female   guess=male     name=Jourdan                       \n",
      "correct=female   guess=male     name=Kathryn                       \n",
      "correct=female   guess=male     name=Leigh                         \n",
      "correct=female   guess=male     name=Leilah                        \n",
      "correct=female   guess=male     name=Linet                         \n",
      "correct=female   guess=male     name=Lurleen                       \n",
      "correct=female   guess=male     name=Maren                         \n",
      "correct=female   guess=male     name=Margaret                      \n",
      "correct=female   guess=male     name=Margaux                       \n",
      "correct=female   guess=male     name=Marin                         \n",
      "correct=female   guess=male     name=Maryann                       \n",
      "correct=female   guess=male     name=May                           \n",
      "correct=female   guess=male     name=Meaghan                       \n",
      "correct=female   guess=male     name=Milicent                      \n",
      "correct=female   guess=male     name=Miriam                        \n",
      "correct=female   guess=male     name=Pooh                          \n",
      "correct=female   guess=male     name=Pru                           \n",
      "correct=female   guess=male     name=Rhiamon                       \n",
      "correct=female   guess=male     name=Roch                          \n",
      "correct=female   guess=male     name=Ros                           \n",
      "correct=female   guess=male     name=Rosalynd                      \n",
      "correct=female   guess=male     name=Shirleen                      \n",
      "correct=female   guess=male     name=Sibyl                         \n",
      "correct=female   guess=male     name=Star                          \n",
      "correct=female   guess=male     name=Tamar                         \n",
      "correct=female   guess=male     name=Tarah                         \n",
      "correct=female   guess=male     name=Wandis                        \n",
      "correct=female   guess=male     name=Willow                        \n",
      "correct=male     guess=female   name=Addie                         \n",
      "correct=male     guess=female   name=Artie                         \n",
      "correct=male     guess=female   name=Barde                         \n",
      "correct=male     guess=female   name=Barnaby                       \n",
      "correct=male     guess=female   name=Benji                         \n",
      "correct=male     guess=female   name=Billy                         \n",
      "correct=male     guess=female   name=Carlie                        \n",
      "correct=male     guess=female   name=Carmine                       \n",
      "correct=male     guess=female   name=Charlie                       \n",
      "correct=male     guess=female   name=Conway                        \n",
      "correct=male     guess=female   name=Curtice                       \n",
      "correct=male     guess=female   name=Dave                          \n",
      "correct=male     guess=female   name=Denny                         \n",
      "correct=male     guess=female   name=Emmery                        \n",
      "correct=male     guess=female   name=Fonzie                        \n",
      "correct=male     guess=female   name=Georgy                        \n",
      "correct=male     guess=female   name=Germaine                      \n",
      "correct=male     guess=female   name=Gerry                         \n",
      "correct=male     guess=female   name=Grace                         \n",
      "correct=male     guess=female   name=Hari                          \n",
      "correct=male     guess=female   name=Henri                         \n",
      "correct=male     guess=female   name=Henrie                        \n",
      "correct=male     guess=female   name=Hezekiah                      \n",
      "correct=male     guess=female   name=Iggie                         \n",
      "correct=male     guess=female   name=Ira                           \n",
      "correct=male     guess=female   name=Jean-Christophe               \n",
      "correct=male     guess=female   name=Jereme                        \n",
      "correct=male     guess=female   name=Jermayne                      \n",
      "correct=male     guess=female   name=Jerrie                        \n",
      "correct=male     guess=female   name=Joey                          \n",
      "correct=male     guess=female   name=Jonny                         \n",
      "correct=male     guess=female   name=Jose                          \n",
      "correct=male     guess=female   name=Kingsly                       \n",
      "correct=male     guess=female   name=Laurence                      \n",
      "correct=male     guess=female   name=Marlowe                       \n",
      "correct=male     guess=female   name=Martie                        \n",
      "correct=male     guess=female   name=Mikey                         \n",
      "correct=male     guess=female   name=Mortie                        \n",
      "correct=male     guess=female   name=Normie                        \n",
      "correct=male     guess=female   name=Pace                          \n",
      "correct=male     guess=female   name=Quincey                       \n",
      "correct=male     guess=female   name=Reggie                        \n",
      "correct=male     guess=female   name=Richie                        \n",
      "correct=male     guess=female   name=Ripley                        \n",
      "correct=male     guess=female   name=Rocky                         \n",
      "correct=male     guess=female   name=Roddie                        \n",
      "correct=male     guess=female   name=Rustie                        \n",
      "correct=male     guess=female   name=Sherlocke                     \n",
      "correct=male     guess=female   name=Teddie                        \n",
      "correct=male     guess=female   name=Thaine                        \n",
      "correct=male     guess=female   name=Tore                          \n",
      "correct=male     guess=female   name=Tracie                        \n",
      "correct=male     guess=female   name=Udale                         \n",
      "correct=male     guess=female   name=Verne                         \n",
      "correct=male     guess=female   name=Vite                          \n",
      "correct=male     guess=female   name=Wiley                         \n",
      "correct=male     guess=female   name=Winny                         \n",
      "correct=male     guess=female   name=Woodie                        \n"
     ]
    }
   ],
   "source": [
    "errors = []\n",
    "for (name, tag) in devtest_names:\n",
    "    guess = nbclassifier.classify(gender_features2(name))\n",
    "    if guess != tag:\n",
    "        errors.append((tag, guess, name))\n",
    "\n",
    "for (tag, guess, name) in sorted(errors):\n",
    "    print ('correct=%-8s guess=%-8s name=%-30s' %(tag, guess, name))"
   ]
  },
  {
   "cell_type": "markdown",
   "metadata": {},
   "source": [
    "From the error review it seems like remove suffix reduced accurancy because names end with en, een are predicted wrong\n",
    "and it doesn't slove the low predict power for names end with ie"
   ]
  },
  {
   "cell_type": "markdown",
   "metadata": {},
   "source": [
    "# How does the performance on the test set compare to the performance on the dev-test set"
   ]
  },
  {
   "cell_type": "markdown",
   "metadata": {
    "collapsed": true
   },
   "source": [
    "It is generally the model has predict power becasue all models are much better than random guess since accurancy is higher than 50% and the model with more features seems better performace becasue not only the accurancy are higer but also the predict power to new names are also high. In addition, Naive Bayes model seems to be better than decision tree in this problem. I think it makes sence to me becasue decision tree tend to overfit the model and Naive Bayse has a strong independence assumption and letters within a name should be independent "
   ]
  },
  {
   "cell_type": "code",
   "execution_count": null,
   "metadata": {
    "collapsed": true
   },
   "outputs": [],
   "source": []
  }
 ],
 "metadata": {
  "kernelspec": {
   "display_name": "Python 3",
   "language": "python",
   "name": "python3"
  },
  "language_info": {
   "codemirror_mode": {
    "name": "ipython",
    "version": 3
   },
   "file_extension": ".py",
   "mimetype": "text/x-python",
   "name": "python",
   "nbconvert_exporter": "python",
   "pygments_lexer": "ipython3",
   "version": "3.6.1"
  }
 },
 "nbformat": 4,
 "nbformat_minor": 2
}
